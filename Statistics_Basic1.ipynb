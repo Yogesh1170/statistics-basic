{
 "cells": [
  {
   "cell_type": "markdown",
   "id": "7cb30600-a542-48fb-857b-f8254e16238f",
   "metadata": {},
   "source": [
    "1> Statistics is a branch of mathematics that deals with the collection, analysis, interpretation, presentation, and organization of data. The goal of statistics is to make sense of data and to use it to inform decisions, answer questions, and understand the world around us. "
   ]
  },
  {
   "cell_type": "markdown",
   "id": "6ea55bdb-a0e4-4144-ad38-43bf2c1f37c7",
   "metadata": {},
   "source": [
    "2> The two types of statistics are Descriptive and Inferential Stats."
   ]
  },
  {
   "cell_type": "markdown",
   "id": "3da9eb9a-3ca5-4d55-80f0-b1ce5e9d5a2d",
   "metadata": {},
   "source": [
    "3> The different types of data are :\n",
    "\n",
    "    a> Normal Scale data (order does not matter)\n",
    "    b> Ordinal Scale Data (Ranking and order matters, difference cannot be measured)\n",
    "    c> Interval Scale Data (Rank and order matters , difference can be measured excluding ratio)\n",
    "    d> Ratio Scale Data (Order and rank matters , differences and ratio can be measured)"
   ]
  },
  {
   "cell_type": "markdown",
   "id": "f5da520a-a018-4bd6-bb76-d426fd3e4f60",
   "metadata": {},
   "source": [
    "4> (i) Grading in exam: A+, A, B+, B, C+, C, D, E\n",
    "\n",
    "Categorical/Qualitative\n",
    "(ii) Colour of mangoes: yellow, green, orange, red\n",
    "\n",
    "Categorical/Qualitative\n",
    "(iii) Height data of a class: [178.9, 179, 179.5, 176, 177.2, 178.3, 175.8,...]\n",
    "\n",
    "Numerical/Quantitative (Continuous)\n",
    "(iv) Number of mangoes exported by a farm: [500, 600, 478, 672, ...]\n",
    "\n",
    "Numerical/Quantitative (Discrete)"
   ]
  },
  {
   "cell_type": "markdown",
   "id": "e6668e95-800f-46a5-82b9-fa5db22d7294",
   "metadata": {},
   "source": [
    "5> Nominal: Nominal variables are categorical in nature, and the categories have no inherent order or ranking. Examples of nominal variables include gender (male or female), eye color (blue, brown, green), and political affiliation (Democrat, Republican, Independent).\n",
    "\n",
    "Ordinal: Ordinal variables have categories that can be ordered or ranked, but the differences between the categories are not necessarily equal. Examples of ordinal variables include rankings (first place, second place, third place), income level (low, medium, high), and educational attainment (less than high school, high school graduate, some college, bachelor's degree or higher).\n",
    "\n",
    "Interval: Interval variables have categories that can be ordered, and the differences between the categories are equal. However, interval variables do not have a true zero point. Examples of interval variables include temperature in Celsius or Fahrenheit, time of day, and calendar dates.\n",
    "\n",
    "Ratio: Ratio variables have categories that can be ordered, and the differences between the categories are equal. Additionally, ratio variables have a true zero point, meaning that there is a complete absence of the variable being measured. Examples of ratio variables include height, weight, age, and income."
   ]
  },
  {
   "cell_type": "markdown",
   "id": "301bae08-6e87-4c95-84d8-98b75a29dce6",
   "metadata": {},
   "source": [
    "6> Understanding the level of measurement of a variable is important when analyzing data because it helps determine which statistical techniques and methods are appropriate to use for that variable. Different levels of measurement require different statistical methods for analysis, and using the wrong method can lead to incorrect conclusions."
   ]
  },
  {
   "cell_type": "markdown",
   "id": "809c93c1-50e4-4804-8d49-781cf114a7b8",
   "metadata": {},
   "source": [
    "8> A box plot or box-and-whisker plot is a type of plot that can be used to display data in terms of range. The box represents the middle 50% of the data, with the bottom and top of the box representing the lower and upper quartiles, respectively. The median is shown as a horizontal line within the box. The whiskers extend from the box to the minimum and maximum values of the data, excluding outliers. Outliers are shown as individual points outside the whiskers."
   ]
  },
  {
   "cell_type": "markdown",
   "id": "5ce1d889-95db-4899-a1f7-97d3e0c0f52e",
   "metadata": {},
   "source": [
    "9> Descriptive Stats consists of organising and summarizing the data whereas Inferential Stats consists of using data you have measured to come to a conclusion."
   ]
  },
  {
   "cell_type": "markdown",
   "id": "e40b3509-3d71-4b3c-b4a5-e183c684cf4f",
   "metadata": {},
   "source": [
    "10> Common measures of Central Tendency are a) Mean b) Median c) Mode\n",
    "\n",
    "    Mean : Average of the dataset\n",
    "    Median : The centremost element of the dataset\n",
    "    Mode : The h"
   ]
  }
 ],
 "metadata": {
  "kernelspec": {
   "display_name": "Python 3 (ipykernel)",
   "language": "python",
   "name": "python3"
  },
  "language_info": {
   "codemirror_mode": {
    "name": "ipython",
    "version": 3
   },
   "file_extension": ".py",
   "mimetype": "text/x-python",
   "name": "python",
   "nbconvert_exporter": "python",
   "pygments_lexer": "ipython3",
   "version": "3.10.8"
  }
 },
 "nbformat": 4,
 "nbformat_minor": 5
}
